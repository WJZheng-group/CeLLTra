{
 "cells": [
  {
   "cell_type": "code",
   "execution_count": null,
   "metadata": {},
   "outputs": [],
   "source": [
    "import os\n",
    "import scanpy as sc\n",
    "import pandas as pd\n",
    "import numpy as np\n",
    "import matplotlib.pyplot as plt"
   ]
  },
  {
   "cell_type": "markdown",
   "metadata": {},
   "source": [
    "### load data"
   ]
  },
  {
   "cell_type": "code",
   "execution_count": null,
   "metadata": {},
   "outputs": [],
   "source": [
    "adata_tabula = sc.read_h5ad('./io/tabula_sapiens/rawdata/unzipped_files/TabulaSapiens.h5ad')"
   ]
  },
  {
   "cell_type": "code",
   "execution_count": null,
   "metadata": {},
   "outputs": [],
   "source": [
    "adata_tabula"
   ]
  },
  {
   "cell_type": "markdown",
   "metadata": {},
   "source": [
    "### select highly variable genes"
   ]
  },
  {
   "cell_type": "code",
   "execution_count": null,
   "metadata": {},
   "outputs": [],
   "source": [
    "adata_tabula_highly = adata_tabula[:, adata_tabula.var.highly_variable]"
   ]
  },
  {
   "cell_type": "code",
   "execution_count": null,
   "metadata": {},
   "outputs": [],
   "source": [
    "adata_tabula_highly"
   ]
  },
  {
   "cell_type": "code",
   "execution_count": null,
   "metadata": {},
   "outputs": [],
   "source": [
    "adata_tabula_highly.obs.cell_ontology_class.value_counts()"
   ]
  },
  {
   "cell_type": "code",
   "execution_count": null,
   "metadata": {},
   "outputs": [],
   "source": [
    "adata_tabula_highly_arr = adata_tabula_highly.X.toarray()"
   ]
  },
  {
   "cell_type": "code",
   "execution_count": null,
   "metadata": {},
   "outputs": [],
   "source": [
    "adata_tabula_highly_Y = adata_tabula_highly.obs.cell_ontology_class"
   ]
  },
  {
   "cell_type": "code",
   "execution_count": null,
   "metadata": {},
   "outputs": [],
   "source": [
    "adata_tabula_highly_Y"
   ]
  },
  {
   "cell_type": "code",
   "execution_count": null,
   "metadata": {},
   "outputs": [],
   "source": [
    "np.save('./io/tabular_sapiens/output/adata_tabula_highly_X.npy', adata_tabula_highly_arr)"
   ]
  },
  {
   "cell_type": "code",
   "execution_count": null,
   "metadata": {},
   "outputs": [],
   "source": [
    "adata_tabula_highly_Y.to_csv('./io/tabular_sapiens/output/adata_tabula_Y.tsv', header=False\n",
    "                             , index=False\n",
    "                             , sep='\\t')"
   ]
  },
  {
   "cell_type": "code",
   "execution_count": null,
   "metadata": {},
   "outputs": [],
   "source": [
    "adata_tabula_highly_genes = adata_tabula_highly.var.gene_symbol"
   ]
  },
  {
   "cell_type": "code",
   "execution_count": null,
   "metadata": {},
   "outputs": [],
   "source": [
    "adata_tabula_highly_genes.to_csv('./io/tabular_sapiens/output/adata_tabula_highly_genes.tsv', header=False\n",
    "                             , index=False\n",
    "                             , sep='\\t')"
   ]
  },
  {
   "cell_type": "markdown",
   "metadata": {},
   "source": [
    "### filter genes"
   ]
  },
  {
   "cell_type": "code",
   "execution_count": null,
   "metadata": {},
   "outputs": [],
   "source": [
    "adata_tabula_filter_gene = sc.pp.filter_genes(adata_tabula, min_cells=int(483152 * 0.001), inplace=False)"
   ]
  },
  {
   "cell_type": "code",
   "execution_count": null,
   "metadata": {},
   "outputs": [],
   "source": [
    "adata_tabula_filter_gene = adata_tabula[:, adata_tabula_filter_gene[0]]"
   ]
  },
  {
   "cell_type": "code",
   "execution_count": null,
   "metadata": {},
   "outputs": [],
   "source": [
    "adata_tabula_subset_X = adata_tabula_filter_gene.X.toarray()"
   ]
  },
  {
   "cell_type": "code",
   "execution_count": null,
   "metadata": {},
   "outputs": [],
   "source": [
    "adata_tabula_subset_X.shape"
   ]
  },
  {
   "cell_type": "code",
   "execution_count": null,
   "metadata": {},
   "outputs": [],
   "source": [
    "adata_tabula_subset_Y = adata_tabula_filter_gene.obs.cell_ontology_class"
   ]
  },
  {
   "cell_type": "code",
   "execution_count": null,
   "metadata": {},
   "outputs": [],
   "source": [
    "np.save('./io/tabular_sapiens/output/filter_gene_483/X.npy', adata_tabula_subset_X)"
   ]
  },
  {
   "cell_type": "code",
   "execution_count": null,
   "metadata": {},
   "outputs": [],
   "source": [
    "adata_tabula_subset_Y.to_csv('./io/tabular_sapiens/output/filter_gene_483/Y.tsv', header=False\n",
    "                             , index=False\n",
    "                             , sep='\\t')"
   ]
  },
  {
   "cell_type": "code",
   "execution_count": null,
   "metadata": {},
   "outputs": [],
   "source": [
    "adata_tabula_subset_genes = adata_tabula_filter_gene.var.gene_symbol"
   ]
  },
  {
   "cell_type": "code",
   "execution_count": null,
   "metadata": {},
   "outputs": [],
   "source": [
    "adata_tabula_subset_genes.shape"
   ]
  },
  {
   "cell_type": "markdown",
   "metadata": {},
   "source": [
    "### split train and evaluation, save to drive"
   ]
  },
  {
   "cell_type": "code",
   "execution_count": null,
   "metadata": {},
   "outputs": [],
   "source": [
    "import datasets\n",
    "from datasets import Dataset\n",
    "import math"
   ]
  },
  {
   "cell_type": "code",
   "execution_count": null,
   "metadata": {},
   "outputs": [],
   "source": [
    "data_dir = './io/tabular_sapiens/output/filter_gene_483'\n",
    "Y = list(pd.read_csv(os.path.join(data_dir, 'Y.tsv'), sep='\\t', header=None).iloc[:,0])"
   ]
  },
  {
   "cell_type": "code",
   "execution_count": null,
   "metadata": {},
   "outputs": [],
   "source": [
    "X = np.load(os.path.join(data_dir, 'X.npy'))"
   ]
  },
  {
   "cell_type": "code",
   "execution_count": null,
   "metadata": {},
   "outputs": [],
   "source": [
    "num_samples = X.shape[0]\n",
    "max_single_ds = 10000"
   ]
  },
  {
   "cell_type": "code",
   "execution_count": null,
   "metadata": {},
   "outputs": [],
   "source": [
    "X.shape"
   ]
  },
  {
   "cell_type": "code",
   "execution_count": null,
   "metadata": {},
   "outputs": [],
   "source": [
    "Y = np.array(Y)"
   ]
  },
  {
   "cell_type": "code",
   "execution_count": null,
   "metadata": {},
   "outputs": [],
   "source": [
    "Y.shape"
   ]
  },
  {
   "cell_type": "code",
   "execution_count": null,
   "metadata": {},
   "outputs": [],
   "source": [
    "label_dict, label = np.unique(Y, return_inverse=True) "
   ]
  },
  {
   "cell_type": "code",
   "execution_count": null,
   "metadata": {},
   "outputs": [],
   "source": [
    "label.shape"
   ]
  },
  {
   "cell_type": "code",
   "execution_count": null,
   "metadata": {},
   "outputs": [],
   "source": [
    "label_dict.shape"
   ]
  },
  {
   "cell_type": "code",
   "execution_count": null,
   "metadata": {},
   "outputs": [],
   "source": [
    "from sklearn.model_selection import train_test_split"
   ]
  },
  {
   "cell_type": "code",
   "execution_count": null,
   "metadata": {},
   "outputs": [],
   "source": [
    "X_train, X_test, y_train, y_test = train_test_split(X, Y, test_size=0.15, random_state=7747)"
   ]
  },
  {
   "cell_type": "code",
   "execution_count": null,
   "metadata": {},
   "outputs": [],
   "source": [
    "X_train.shape"
   ]
  },
  {
   "cell_type": "code",
   "execution_count": null,
   "metadata": {},
   "outputs": [],
   "source": [
    "X_test.shape"
   ]
  },
  {
   "cell_type": "code",
   "execution_count": null,
   "metadata": {},
   "outputs": [],
   "source": [
    "y_train.shape"
   ]
  },
  {
   "cell_type": "code",
   "execution_count": null,
   "metadata": {},
   "outputs": [],
   "source": [
    "np.unique(y_train).shape"
   ]
  },
  {
   "cell_type": "code",
   "execution_count": null,
   "metadata": {},
   "outputs": [],
   "source": [
    "np.unique(y_test).shape"
   ]
  },
  {
   "cell_type": "code",
   "execution_count": null,
   "metadata": {},
   "outputs": [],
   "source": [
    "np.save('./io/tabular_sapiens/output/filter_gene_483/X_train.npy', X_train)\n",
    "np.save('./io/tabular_sapiens/output/filter_gene_483/y_train.npy', y_train)\n",
    "np.save('./io/tabular_sapiens/output/filter_gene_483/X_test.npy', X_test)\n",
    "np.save('./io/tabular_sapiens/output/filter_gene_483/y_test.npy', y_test)\n",
    "\n",
    "np.save('./io/tabular_sapiens/output/filter_gene_483/labels.npy', label_dict)"
   ]
  },
  {
   "cell_type": "code",
   "execution_count": null,
   "metadata": {},
   "outputs": [],
   "source": []
  },
  {
   "cell_type": "code",
   "execution_count": null,
   "metadata": {},
   "outputs": [],
   "source": [
    "output_dir = '/home/zli17/work/projects/scBERT/io/scbert/small_for_test'\n",
    "np.save(f'{output_dir}/X_train.npy', X_train[:200])\n",
    "np.save(f'{output_dir}/y_train.npy', y_train[:200])\n",
    "np.save(f'{output_dir}/X_test.npy', X_test[:100])\n",
    "np.save(f'{output_dir}/y_test.npy', y_test[:100])\n",
    "\n",
    "np.save(f'{output_dir}/label_dict.npy', label_dict)"
   ]
  },
  {
   "cell_type": "code",
   "execution_count": null,
   "metadata": {},
   "outputs": [],
   "source": []
  },
  {
   "cell_type": "code",
   "execution_count": null,
   "metadata": {},
   "outputs": [],
   "source": [
    "label2id = {s:i for i,s in enumerate(label_dict)}"
   ]
  },
  {
   "cell_type": "markdown",
   "metadata": {},
   "source": [
    "### group genes by pathway"
   ]
  },
  {
   "cell_type": "code",
   "execution_count": null,
   "metadata": {},
   "outputs": [],
   "source": [
    "import os\n",
    "import json\n",
    "import numpy as np\n",
    "import pandas as pd\n",
    "import matplotlib.pyplot as plt\n",
    "import math"
   ]
  },
  {
   "cell_type": "code",
   "execution_count": null,
   "metadata": {},
   "outputs": [],
   "source": [
    "\"\"\"\n",
    "this json file is downloaded on April 14, 2022 using this link: \n",
    "[https://www.genome.jp/kegg-bin/get_htext?hsa00001+3101\n",
    "\"\"\"\n",
    "with open('../io/kegg/hsa00001.json', 'r') as f:\n",
    "    kegg_json = json.load(f)"
   ]
  },
  {
   "cell_type": "code",
   "execution_count": null,
   "metadata": {},
   "outputs": [],
   "source": [
    "pathways = {}\n",
    "for l1 in kegg_json['children']:\n",
    "    print(l1['name'])\n",
    "    for l2 in l1['children']:\n",
    "        print('\\t', l2['name'])\n",
    "        for l3 in l2['children']:\n",
    "            l3_children = l3.get('children')\n",
    "            if l3_children:\n",
    "                print('\\t\\t', len(l3_children), l3['name'])\n",
    "            else:\n",
    "                print('\\t\\t', 0, l3['name'])"
   ]
  },
  {
   "cell_type": "code",
   "execution_count": null,
   "metadata": {},
   "outputs": [],
   "source": [
    "res_l = []\n",
    "for l1 in kegg_json['children']:\n",
    "    l1_name = l1.get('name')\n",
    "    l1_id = l1_name.split(' ')[0]\n",
    "    for l2 in l1['children']:\n",
    "        l2_name = l2.get('name')\n",
    "        l2_id = l2_name.split(' ')[0]\n",
    "        for l3 in l2['children']:\n",
    "            l3_children = l3.get('children')\n",
    "            l3_name = l3.get('name')\n",
    "            l3_id = l3_name.split(' ')[0]\n",
    "            if l3_children:\n",
    "                for l4 in l3_children:\n",
    "                    splits = l4['name'].split(';')[0].split(' ')\n",
    "                    geneid = splits[0]\n",
    "                    genesymbol = splits[1]\n",
    "                    res_l.append([geneid, genesymbol, l3_id, l3_name, l2_id, l2_name, l1_id, l1_name])\n",
    "kegg_df = pd.DataFrame(res_l, columns=['GeneID', 'Symbol', 'L3ID', 'L3Name', 'L2ID', 'L2Name', 'L1ID', 'L1Name'])"
   ]
  },
  {
   "cell_type": "code",
   "execution_count": null,
   "metadata": {},
   "outputs": [],
   "source": [
    "kegg_df.head()"
   ]
  },
  {
   "cell_type": "code",
   "execution_count": null,
   "metadata": {},
   "outputs": [],
   "source": [
    "kegg_overlap_df = kegg_df[kegg_df.Symbol.isin(adata_tabula_subset_genes)].loc[:, ['Symbol', 'L3ID']]\n",
    "kegg_overlap_df.shape"
   ]
  },
  {
   "cell_type": "code",
   "execution_count": null,
   "metadata": {},
   "outputs": [],
   "source": [
    "kegg_overlap_df.groupby('L3ID').count().describe()"
   ]
  },
  {
   "cell_type": "code",
   "execution_count": null,
   "metadata": {},
   "outputs": [],
   "source": [
    "overlapped_genes = kegg_overlap_df.Symbol.unique()"
   ]
  },
  {
   "cell_type": "code",
   "execution_count": null,
   "metadata": {},
   "outputs": [],
   "source": [
    "i = 0\n",
    "random_group_size = 110\n",
    "left_genes = []\n",
    "for gene in adata_tabula_subset_genes:\n",
    "    if gene not in overlapped_genes:\n",
    "        left_genes.append([gene, f'NO_PATHWAY_{int(i/random_group_size)}'])\n",
    "        i += 1\n",
    "print(f'Left Genes: {len(left_genes)}')"
   ]
  },
  {
   "cell_type": "code",
   "execution_count": null,
   "metadata": {},
   "outputs": [],
   "source": [
    "left_gene_df = pd.DataFrame(left_genes, columns=['Symbol', 'L3ID'])"
   ]
  },
  {
   "cell_type": "code",
   "execution_count": null,
   "metadata": {},
   "outputs": [],
   "source": [
    "gene_pathway_df = pd.concat([kegg_overlap_df, left_gene_df])\n",
    "gene_pathway_df.shape"
   ]
  },
  {
   "cell_type": "code",
   "execution_count": null,
   "metadata": {},
   "outputs": [],
   "source": [
    "gene_pathway_df.L3ID.value_counts()"
   ]
  },
  {
   "cell_type": "code",
   "execution_count": null,
   "metadata": {},
   "outputs": [],
   "source": [
    "pathway_onehot = pd.get_dummies(gene_pathway_df, columns=['L3ID'], prefix='Pathway')\n",
    "pathway_onehot.shape"
   ]
  },
  {
   "cell_type": "code",
   "execution_count": null,
   "metadata": {},
   "outputs": [],
   "source": [
    "gene_group = pathway_onehot.groupby('Symbol').sum()"
   ]
  },
  {
   "cell_type": "code",
   "execution_count": null,
   "metadata": {},
   "outputs": [],
   "source": [
    "gene_group = gene_group.reset_index()"
   ]
  },
  {
   "cell_type": "code",
   "execution_count": null,
   "metadata": {},
   "outputs": [],
   "source": [
    "gene_group.head()"
   ]
  },
  {
   "cell_type": "code",
   "execution_count": null,
   "metadata": {},
   "outputs": [],
   "source": [
    "gene_group_reorder = pd.merge(adata_tabula_subset_genes, gene_group, how='left', left_on='gene_symbol', right_on='Symbol')"
   ]
  },
  {
   "cell_type": "code",
   "execution_count": null,
   "metadata": {},
   "outputs": [],
   "source": [
    "gene_group_reorder.head()"
   ]
  },
  {
   "cell_type": "code",
   "execution_count": null,
   "metadata": {},
   "outputs": [],
   "source": [
    "gene_group_reorder.tail()"
   ]
  },
  {
   "cell_type": "code",
   "execution_count": null,
   "metadata": {},
   "outputs": [],
   "source": [
    "adata_tabula_subset_genes"
   ]
  },
  {
   "cell_type": "code",
   "execution_count": null,
   "metadata": {},
   "outputs": [],
   "source": [
    "gene_group_reorder = gene_group_reorder.set_index('Symbol')"
   ]
  },
  {
   "cell_type": "code",
   "execution_count": null,
   "metadata": {},
   "outputs": [],
   "source": [
    "gene_group_reorder.head()"
   ]
  },
  {
   "cell_type": "code",
   "execution_count": null,
   "metadata": {},
   "outputs": [],
   "source": [
    "gene_group_reorder = gene_group_reorder.iloc[:, 1:]"
   ]
  },
  {
   "cell_type": "code",
   "execution_count": null,
   "metadata": {},
   "outputs": [],
   "source": [
    "gene_group_reorder.head()"
   ]
  },
  {
   "cell_type": "code",
   "execution_count": null,
   "metadata": {},
   "outputs": [],
   "source": [
    "gene_group_reorder.shape"
   ]
  },
  {
   "cell_type": "code",
   "execution_count": null,
   "metadata": {},
   "outputs": [],
   "source": [
    "gene_group_reorder.to_csv('./io/tabular_sapiens/output/filter_gene_483/kegg_grouping.tsv', index=True, header=True, sep='\\t')"
   ]
  },
  {
   "cell_type": "markdown",
   "metadata": {},
   "source": [
    "### random grouping"
   ]
  },
  {
   "cell_type": "code",
   "execution_count": null,
   "metadata": {},
   "outputs": [],
   "source": [
    "gene_group_reorder = pd.read_csv('./io/tabular_sapiens/output/filter_gene_483/kegg_grouping.tsv', index_col='Symbol'\n",
    "                                 ,  sep='\\t')"
   ]
  },
  {
   "cell_type": "code",
   "execution_count": null,
   "metadata": {},
   "outputs": [],
   "source": [
    "gene_group_reorder.shape"
   ]
  },
  {
   "cell_type": "code",
   "execution_count": null,
   "metadata": {},
   "outputs": [],
   "source": [
    "gene_group_reorder.head()"
   ]
  },
  {
   "cell_type": "code",
   "execution_count": null,
   "metadata": {},
   "outputs": [],
   "source": [
    "gene_random_group_df = pd.DataFrame({'Symbol': gene_group_reorder.index,\n",
    "                                    'Group': list(np.random.randint(low=0, high=gene_group_reorder.shape[1], size=(gene_group_reorder.shape[0])))}) "
   ]
  },
  {
   "cell_type": "code",
   "execution_count": null,
   "metadata": {},
   "outputs": [],
   "source": [
    "gene_random_group_df.head()"
   ]
  },
  {
   "cell_type": "code",
   "execution_count": null,
   "metadata": {},
   "outputs": [],
   "source": [
    "gene_random_group_df.shape"
   ]
  },
  {
   "cell_type": "code",
   "execution_count": null,
   "metadata": {},
   "outputs": [],
   "source": [
    "gene_random_group_onehot = pd.get_dummies(gene_random_group_df, columns=['Group'], prefix='Group')\n",
    "gene_random_group_onehot.shape"
   ]
  },
  {
   "cell_type": "code",
   "execution_count": null,
   "metadata": {},
   "outputs": [],
   "source": [
    "gene_random_group_onehot.head()"
   ]
  },
  {
   "cell_type": "code",
   "execution_count": null,
   "metadata": {},
   "outputs": [],
   "source": [
    "gene_random_group_onehot = gene_random_group_onehot.set_index('Symbol')"
   ]
  },
  {
   "cell_type": "code",
   "execution_count": null,
   "metadata": {},
   "outputs": [],
   "source": [
    "gene_random_group_onehot.shape"
   ]
  },
  {
   "cell_type": "code",
   "execution_count": null,
   "metadata": {},
   "outputs": [],
   "source": [
    "gene_random_group_onehot.to_csv('./io/tabular_sapiens/output/filter_gene_483/random_grouping.tsv', index=True, header=True, sep='\\t')"
   ]
  },
  {
   "cell_type": "markdown",
   "metadata": {},
   "source": [
    "### convert to dataset and save"
   ]
  },
  {
   "cell_type": "code",
   "execution_count": null,
   "metadata": {},
   "outputs": [],
   "source": [
    "import datasets\n",
    "from datasets import Dataset\n",
    "import os\n",
    "import numpy as np\n",
    "import math"
   ]
  },
  {
   "cell_type": "code",
   "execution_count": null,
   "metadata": {},
   "outputs": [],
   "source": [
    "def load_dataset(data_dir):\n",
    "    X_train = np.load(os.path.join(data_dir, f'X_train.npy'))\n",
    "    X_eval = np.load(os.path.join(data_dir, f'X_test.npy'))\n",
    "    Y_train = np.load(os.path.join(data_dir, f'y_train.npy'))\n",
    "    Y_eval = np.load(os.path.join(data_dir, f'y_test.npy'))\n",
    "\n",
    "    ds = {}\n",
    "    for k,X in {'train':X_train, 'test': X_eval}.items():\n",
    "        if k == 'train':\n",
    "            Y = Y_train\n",
    "        else:\n",
    "            Y = Y_eval\n",
    "        num_samples = X.shape[0]\n",
    "        max_single_ds = 10000\n",
    "\n",
    "        if num_samples <= max_single_ds:\n",
    "            dataset = Dataset.from_dict({'gex': X, 'label': Y})\n",
    "        else:\n",
    "            ds_l = []\n",
    "            for i in range(math.ceil(num_samples/max_single_ds)):\n",
    "                dataset_i = datasets.Dataset.from_dict(\n",
    "                    {'gex': X[i * max_single_ds:(i + 1) * max_single_ds, :], 'label': Y[i * max_single_ds:(i + 1) * max_single_ds]})\n",
    "                ds_l.append(dataset_i)\n",
    "            dataset = datasets.concatenate_datasets(ds_l)\n",
    "        ds[k] = dataset\n",
    "    return ds"
   ]
  },
  {
   "cell_type": "code",
   "execution_count": null,
   "metadata": {},
   "outputs": [],
   "source": [
    "output_dir = './io/tabular_sapiens/output/filter_gene_483'\n",
    "ds = load_dataset(output_dir)"
   ]
  },
  {
   "cell_type": "code",
   "execution_count": null,
   "metadata": {},
   "outputs": [],
   "source": [
    "ds_output_dir = './io/tabular_sapiens/output/filter_gene_483_ds_cache'\n",
    "if not os.path.exists(ds_output_dir):\n",
    "    os.makedirs(ds_output_dir)\n",
    "for k,v in ds.items():\n",
    "    v.save_to_disk(os.path.join(ds_output_dir, f'{k}'))"
   ]
  },
  {
   "cell_type": "code",
   "execution_count": null,
   "metadata": {},
   "outputs": [],
   "source": [
    "import shutil\n",
    "output_dir = './io/tabular_sapiens/output/filter_gene_483'\n",
    "shutil.copyfile(os.path.join(output_dir, 'labels.npy'), os.path.join(ds_output_dir, 'labels.npy'))"
   ]
  },
  {
   "cell_type": "code",
   "execution_count": null,
   "metadata": {},
   "outputs": [],
   "source": []
  }
 ],
 "metadata": {
  "kernelspec": {
   "display_name": "vit",
   "language": "python",
   "name": "python3"
  },
  "language_info": {
   "codemirror_mode": {
    "name": "ipython",
    "version": 3
   },
   "file_extension": ".py",
   "mimetype": "text/x-python",
   "name": "python",
   "nbconvert_exporter": "python",
   "pygments_lexer": "ipython3",
   "version": "3.8.20"
  }
 },
 "nbformat": 4,
 "nbformat_minor": 4
}
